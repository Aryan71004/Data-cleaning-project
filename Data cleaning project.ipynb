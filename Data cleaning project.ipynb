{
 "cells": [
  {
   "cell_type": "markdown",
   "metadata": {},
   "source": [
    "**Please run the following code**"
   ]
  },
  {
   "cell_type": "code",
   "execution_count": 5,
   "metadata": {},
   "outputs": [],
   "source": [
    "import warnings\n",
    "warnings.filterwarnings('ignore')"
   ]
  },
  {
   "cell_type": "markdown",
   "metadata": {},
   "source": [
    "**Load the berlin_airbnb data into df dataframe and display the first 5 rows of df**"
   ]
  },
  {
   "cell_type": "code",
   "execution_count": 7,
   "metadata": {},
   "outputs": [
    {
     "data": {
      "text/html": [
       "<div>\n",
       "<style scoped>\n",
       "    .dataframe tbody tr th:only-of-type {\n",
       "        vertical-align: middle;\n",
       "    }\n",
       "\n",
       "    .dataframe tbody tr th {\n",
       "        vertical-align: top;\n",
       "    }\n",
       "\n",
       "    .dataframe thead th {\n",
       "        text-align: right;\n",
       "    }\n",
       "</style>\n",
       "<table border=\"1\" class=\"dataframe\">\n",
       "  <thead>\n",
       "    <tr style=\"text-align: right;\">\n",
       "      <th></th>\n",
       "      <th>property id</th>\n",
       "      <th>neighborhood and city</th>\n",
       "      <th>country</th>\n",
       "      <th>property_type</th>\n",
       "      <th>bedrooms</th>\n",
       "      <th>bed_type</th>\n",
       "      <th>price</th>\n",
       "      <th>guests_included</th>\n",
       "      <th>maximum_nights</th>\n",
       "      <th>has_availability</th>\n",
       "      <th>number_of_reviews</th>\n",
       "      <th>review_date</th>\n",
       "    </tr>\n",
       "  </thead>\n",
       "  <tbody>\n",
       "    <tr>\n",
       "      <th>0</th>\n",
       "      <td>27489679</td>\n",
       "      <td>Adlershof: Berlin</td>\n",
       "      <td>Germany</td>\n",
       "      <td>Apartment</td>\n",
       "      <td>0- beds</td>\n",
       "      <td>Real Bed</td>\n",
       "      <td>43.0</td>\n",
       "      <td>1.0</td>\n",
       "      <td>1125</td>\n",
       "      <td>t</td>\n",
       "      <td>40.0</td>\n",
       "      <td>1/3/2016</td>\n",
       "    </tr>\n",
       "    <tr>\n",
       "      <th>1</th>\n",
       "      <td>25020552</td>\n",
       "      <td>Adlershof: Berlin</td>\n",
       "      <td>Germany</td>\n",
       "      <td>Apartment</td>\n",
       "      <td>0- beds</td>\n",
       "      <td>Real Bed</td>\n",
       "      <td>25.0</td>\n",
       "      <td>1.0</td>\n",
       "      <td>1125</td>\n",
       "      <td>t</td>\n",
       "      <td>4.0</td>\n",
       "      <td>1/12/2016</td>\n",
       "    </tr>\n",
       "    <tr>\n",
       "      <th>2</th>\n",
       "      <td>1032446</td>\n",
       "      <td>Adlershof: Berlin</td>\n",
       "      <td>Germany</td>\n",
       "      <td>Apartment</td>\n",
       "      <td>1- beds</td>\n",
       "      <td>Real Bed</td>\n",
       "      <td>17.0</td>\n",
       "      <td>1.0</td>\n",
       "      <td>30</td>\n",
       "      <td>t</td>\n",
       "      <td>2.0</td>\n",
       "      <td>9/11/2015</td>\n",
       "    </tr>\n",
       "    <tr>\n",
       "      <th>3</th>\n",
       "      <td>1032446</td>\n",
       "      <td>Adlershof: Berlin</td>\n",
       "      <td>Germany</td>\n",
       "      <td>Apartment</td>\n",
       "      <td>1- beds</td>\n",
       "      <td>Real Bed</td>\n",
       "      <td>17.0</td>\n",
       "      <td>1.0</td>\n",
       "      <td>30</td>\n",
       "      <td>t</td>\n",
       "      <td>2.0</td>\n",
       "      <td>9/11/2015</td>\n",
       "    </tr>\n",
       "    <tr>\n",
       "      <th>4</th>\n",
       "      <td>19844167</td>\n",
       "      <td>Adlershof: Berlin</td>\n",
       "      <td>Germany</td>\n",
       "      <td>Apartment</td>\n",
       "      <td>1- beds</td>\n",
       "      <td>Real Bed</td>\n",
       "      <td>75.0</td>\n",
       "      <td>2.0</td>\n",
       "      <td>14</td>\n",
       "      <td>t</td>\n",
       "      <td>2.0</td>\n",
       "      <td>7/23/2018</td>\n",
       "    </tr>\n",
       "  </tbody>\n",
       "</table>\n",
       "</div>"
      ],
      "text/plain": [
       "   property id neighborhood and city  country property_type bedrooms  \\\n",
       "0     27489679     Adlershof: Berlin  Germany     Apartment  0- beds   \n",
       "1     25020552     Adlershof: Berlin  Germany     Apartment  0- beds   \n",
       "2      1032446     Adlershof: Berlin  Germany     Apartment  1- beds   \n",
       "3      1032446     Adlershof: Berlin  Germany     Apartment  1- beds   \n",
       "4     19844167     Adlershof: Berlin  Germany     Apartment  1- beds   \n",
       "\n",
       "   bed_type  price  guests_included  maximum_nights has_availability  \\\n",
       "0  Real Bed   43.0              1.0            1125                t   \n",
       "1  Real Bed   25.0              1.0            1125                t   \n",
       "2  Real Bed   17.0              1.0              30                t   \n",
       "3  Real Bed   17.0              1.0              30                t   \n",
       "4  Real Bed   75.0              2.0              14                t   \n",
       "\n",
       "   number_of_reviews review_date  \n",
       "0               40.0    1/3/2016  \n",
       "1                4.0   1/12/2016  \n",
       "2                2.0   9/11/2015  \n",
       "3                2.0   9/11/2015  \n",
       "4                2.0   7/23/2018  "
      ]
     },
     "execution_count": 7,
     "metadata": {},
     "output_type": "execute_result"
    }
   ],
   "source": [
    "import pandas as pd\n",
    "\n",
    "df = pd.read_csv('berlin_airbnb.csv')\n",
    "df.head()"
   ]
  },
  {
   "cell_type": "markdown",
   "metadata": {},
   "source": [
    "**Question 1:**\n",
    "\n",
    "a. Display the shape (number of rows and number of columns) of the dataframe"
   ]
  },
  {
   "cell_type": "code",
   "execution_count": 9,
   "metadata": {},
   "outputs": [
    {
     "data": {
      "text/plain": [
       "(16587, 12)"
      ]
     },
     "execution_count": 9,
     "metadata": {},
     "output_type": "execute_result"
    }
   ],
   "source": [
    "df.shape"
   ]
  },
  {
   "cell_type": "markdown",
   "metadata": {},
   "source": [
    "b. Display the list of columns in the df dataframe"
   ]
  },
  {
   "cell_type": "code",
   "execution_count": 11,
   "metadata": {},
   "outputs": [
    {
     "data": {
      "text/plain": [
       "Index(['property id', 'neighborhood and city', 'country', 'property_type',\n",
       "       'bedrooms', 'bed_type', 'price', 'guests_included', 'maximum_nights',\n",
       "       'has_availability', 'number_of_reviews', 'review_date'],\n",
       "      dtype='object')"
      ]
     },
     "execution_count": 11,
     "metadata": {},
     "output_type": "execute_result"
    }
   ],
   "source": [
    "df.columns"
   ]
  },
  {
   "cell_type": "markdown",
   "metadata": {},
   "source": [
    "c. Create a deep copy of df and save into df1"
   ]
  },
  {
   "cell_type": "code",
   "execution_count": 13,
   "metadata": {},
   "outputs": [],
   "source": [
    "df1 = df.copy()"
   ]
  },
  {
   "cell_type": "markdown",
   "metadata": {},
   "source": [
    "**Question 2: Remove Leading or Trailing Spaces for all columns**"
   ]
  },
  {
   "cell_type": "code",
   "execution_count": 182,
   "metadata": {},
   "outputs": [],
   "source": [
    "df1.columns = df1.columns.str.strip()"
   ]
  },
  {
   "cell_type": "markdown",
   "metadata": {},
   "source": [
    "**Question 3:**\n",
    "\n",
    "a. drop 'guests_included' and 'maximum_nights'columns from df1 dataftame"
   ]
  },
  {
   "cell_type": "code",
   "execution_count": 184,
   "metadata": {},
   "outputs": [
    {
     "ename": "KeyError",
     "evalue": "\"['guests_included', 'maximum_nights'] not found in axis\"",
     "output_type": "error",
     "traceback": [
      "\u001b[1;31m---------------------------------------------------------------------------\u001b[0m",
      "\u001b[1;31mKeyError\u001b[0m                                  Traceback (most recent call last)",
      "Cell \u001b[1;32mIn[184], line 1\u001b[0m\n\u001b[1;32m----> 1\u001b[0m df1\u001b[38;5;241m.\u001b[39mdrop([\u001b[38;5;124m'\u001b[39m\u001b[38;5;124mguests_included\u001b[39m\u001b[38;5;124m'\u001b[39m, \u001b[38;5;124m'\u001b[39m\u001b[38;5;124mmaximum_nights\u001b[39m\u001b[38;5;124m'\u001b[39m], axis\u001b[38;5;241m=\u001b[39m\u001b[38;5;241m1\u001b[39m, inplace\u001b[38;5;241m=\u001b[39m\u001b[38;5;28;01mTrue\u001b[39;00m)\n",
      "File \u001b[1;32mC:\\Anaconda\\Lib\\site-packages\\pandas\\core\\frame.py:5581\u001b[0m, in \u001b[0;36mDataFrame.drop\u001b[1;34m(self, labels, axis, index, columns, level, inplace, errors)\u001b[0m\n\u001b[0;32m   5433\u001b[0m \u001b[38;5;28;01mdef\u001b[39;00m \u001b[38;5;21mdrop\u001b[39m(\n\u001b[0;32m   5434\u001b[0m     \u001b[38;5;28mself\u001b[39m,\n\u001b[0;32m   5435\u001b[0m     labels: IndexLabel \u001b[38;5;241m|\u001b[39m \u001b[38;5;28;01mNone\u001b[39;00m \u001b[38;5;241m=\u001b[39m \u001b[38;5;28;01mNone\u001b[39;00m,\n\u001b[1;32m   (...)\u001b[0m\n\u001b[0;32m   5442\u001b[0m     errors: IgnoreRaise \u001b[38;5;241m=\u001b[39m \u001b[38;5;124m\"\u001b[39m\u001b[38;5;124mraise\u001b[39m\u001b[38;5;124m\"\u001b[39m,\n\u001b[0;32m   5443\u001b[0m ) \u001b[38;5;241m-\u001b[39m\u001b[38;5;241m>\u001b[39m DataFrame \u001b[38;5;241m|\u001b[39m \u001b[38;5;28;01mNone\u001b[39;00m:\n\u001b[0;32m   5444\u001b[0m \u001b[38;5;250m    \u001b[39m\u001b[38;5;124;03m\"\"\"\u001b[39;00m\n\u001b[0;32m   5445\u001b[0m \u001b[38;5;124;03m    Drop specified labels from rows or columns.\u001b[39;00m\n\u001b[0;32m   5446\u001b[0m \n\u001b[1;32m   (...)\u001b[0m\n\u001b[0;32m   5579\u001b[0m \u001b[38;5;124;03m            weight  1.0     0.8\u001b[39;00m\n\u001b[0;32m   5580\u001b[0m \u001b[38;5;124;03m    \"\"\"\u001b[39;00m\n\u001b[1;32m-> 5581\u001b[0m     \u001b[38;5;28;01mreturn\u001b[39;00m \u001b[38;5;28msuper\u001b[39m()\u001b[38;5;241m.\u001b[39mdrop(\n\u001b[0;32m   5582\u001b[0m         labels\u001b[38;5;241m=\u001b[39mlabels,\n\u001b[0;32m   5583\u001b[0m         axis\u001b[38;5;241m=\u001b[39maxis,\n\u001b[0;32m   5584\u001b[0m         index\u001b[38;5;241m=\u001b[39mindex,\n\u001b[0;32m   5585\u001b[0m         columns\u001b[38;5;241m=\u001b[39mcolumns,\n\u001b[0;32m   5586\u001b[0m         level\u001b[38;5;241m=\u001b[39mlevel,\n\u001b[0;32m   5587\u001b[0m         inplace\u001b[38;5;241m=\u001b[39minplace,\n\u001b[0;32m   5588\u001b[0m         errors\u001b[38;5;241m=\u001b[39merrors,\n\u001b[0;32m   5589\u001b[0m     )\n",
      "File \u001b[1;32mC:\\Anaconda\\Lib\\site-packages\\pandas\\core\\generic.py:4788\u001b[0m, in \u001b[0;36mNDFrame.drop\u001b[1;34m(self, labels, axis, index, columns, level, inplace, errors)\u001b[0m\n\u001b[0;32m   4786\u001b[0m \u001b[38;5;28;01mfor\u001b[39;00m axis, labels \u001b[38;5;129;01min\u001b[39;00m axes\u001b[38;5;241m.\u001b[39mitems():\n\u001b[0;32m   4787\u001b[0m     \u001b[38;5;28;01mif\u001b[39;00m labels \u001b[38;5;129;01mis\u001b[39;00m \u001b[38;5;129;01mnot\u001b[39;00m \u001b[38;5;28;01mNone\u001b[39;00m:\n\u001b[1;32m-> 4788\u001b[0m         obj \u001b[38;5;241m=\u001b[39m obj\u001b[38;5;241m.\u001b[39m_drop_axis(labels, axis, level\u001b[38;5;241m=\u001b[39mlevel, errors\u001b[38;5;241m=\u001b[39merrors)\n\u001b[0;32m   4790\u001b[0m \u001b[38;5;28;01mif\u001b[39;00m inplace:\n\u001b[0;32m   4791\u001b[0m     \u001b[38;5;28mself\u001b[39m\u001b[38;5;241m.\u001b[39m_update_inplace(obj)\n",
      "File \u001b[1;32mC:\\Anaconda\\Lib\\site-packages\\pandas\\core\\generic.py:4830\u001b[0m, in \u001b[0;36mNDFrame._drop_axis\u001b[1;34m(self, labels, axis, level, errors, only_slice)\u001b[0m\n\u001b[0;32m   4828\u001b[0m         new_axis \u001b[38;5;241m=\u001b[39m axis\u001b[38;5;241m.\u001b[39mdrop(labels, level\u001b[38;5;241m=\u001b[39mlevel, errors\u001b[38;5;241m=\u001b[39merrors)\n\u001b[0;32m   4829\u001b[0m     \u001b[38;5;28;01melse\u001b[39;00m:\n\u001b[1;32m-> 4830\u001b[0m         new_axis \u001b[38;5;241m=\u001b[39m axis\u001b[38;5;241m.\u001b[39mdrop(labels, errors\u001b[38;5;241m=\u001b[39merrors)\n\u001b[0;32m   4831\u001b[0m     indexer \u001b[38;5;241m=\u001b[39m axis\u001b[38;5;241m.\u001b[39mget_indexer(new_axis)\n\u001b[0;32m   4833\u001b[0m \u001b[38;5;66;03m# Case for non-unique axis\u001b[39;00m\n\u001b[0;32m   4834\u001b[0m \u001b[38;5;28;01melse\u001b[39;00m:\n",
      "File \u001b[1;32mC:\\Anaconda\\Lib\\site-packages\\pandas\\core\\indexes\\base.py:7070\u001b[0m, in \u001b[0;36mIndex.drop\u001b[1;34m(self, labels, errors)\u001b[0m\n\u001b[0;32m   7068\u001b[0m \u001b[38;5;28;01mif\u001b[39;00m mask\u001b[38;5;241m.\u001b[39many():\n\u001b[0;32m   7069\u001b[0m     \u001b[38;5;28;01mif\u001b[39;00m errors \u001b[38;5;241m!=\u001b[39m \u001b[38;5;124m\"\u001b[39m\u001b[38;5;124mignore\u001b[39m\u001b[38;5;124m\"\u001b[39m:\n\u001b[1;32m-> 7070\u001b[0m         \u001b[38;5;28;01mraise\u001b[39;00m \u001b[38;5;167;01mKeyError\u001b[39;00m(\u001b[38;5;124mf\u001b[39m\u001b[38;5;124m\"\u001b[39m\u001b[38;5;132;01m{\u001b[39;00mlabels[mask]\u001b[38;5;241m.\u001b[39mtolist()\u001b[38;5;132;01m}\u001b[39;00m\u001b[38;5;124m not found in axis\u001b[39m\u001b[38;5;124m\"\u001b[39m)\n\u001b[0;32m   7071\u001b[0m     indexer \u001b[38;5;241m=\u001b[39m indexer[\u001b[38;5;241m~\u001b[39mmask]\n\u001b[0;32m   7072\u001b[0m \u001b[38;5;28;01mreturn\u001b[39;00m \u001b[38;5;28mself\u001b[39m\u001b[38;5;241m.\u001b[39mdelete(indexer)\n",
      "\u001b[1;31mKeyError\u001b[0m: \"['guests_included', 'maximum_nights'] not found in axis\""
     ]
    }
   ],
   "source": [
    "df1.drop(['guests_included', 'maximum_nights'], axis=1, inplace=True)"
   ]
  },
  {
   "cell_type": "markdown",
   "metadata": {},
   "source": [
    "b. Display the shape (number of rows and number of columns) of  df1 dataframe"
   ]
  },
  {
   "cell_type": "code",
   "execution_count": null,
   "metadata": {},
   "outputs": [],
   "source": [
    "df1.shape"
   ]
  },
  {
   "cell_type": "markdown",
   "metadata": {},
   "source": [
    "**Question 4: removing duplicate rows**\n",
    "\n",
    "a. Remove Duplicate rows from df1 dataframe"
   ]
  },
  {
   "cell_type": "code",
   "execution_count": 21,
   "metadata": {},
   "outputs": [],
   "source": [
    "df1.drop_duplicates(inplace=True)"
   ]
  },
  {
   "cell_type": "markdown",
   "metadata": {},
   "source": [
    "b. Display the shape (number of rows and number of columns) of df1 dataframe"
   ]
  },
  {
   "cell_type": "code",
   "execution_count": 23,
   "metadata": {},
   "outputs": [
    {
     "data": {
      "text/plain": [
       "(16577, 10)"
      ]
     },
     "execution_count": 23,
     "metadata": {},
     "output_type": "execute_result"
    }
   ],
   "source": [
    "df1.shape"
   ]
  },
  {
   "cell_type": "markdown",
   "metadata": {},
   "source": [
    "c. please type in the following cell: how many duplicate rows have been removed?\n",
    "**there was only only 1 duplicate rows removed**"
   ]
  },
  {
   "cell_type": "markdown",
   "metadata": {},
   "source": []
  },
  {
   "cell_type": "markdown",
   "metadata": {},
   "source": [
    "**Question 5: Identifying missing Values**\n",
    "\n",
    "a. Display how many missing values we have in each column in df1 dataframe"
   ]
  },
  {
   "cell_type": "code",
   "execution_count": 27,
   "metadata": {},
   "outputs": [
    {
     "data": {
      "text/plain": [
       "property id                 0\n",
       "neighborhood and city       0\n",
       "country                     0\n",
       "property_type               0\n",
       "bedrooms                    0\n",
       "bed_type                    0\n",
       "price                       9\n",
       "has_availability           32\n",
       "number_of_reviews          12\n",
       "review_date              2943\n",
       "dtype: int64"
      ]
     },
     "execution_count": 27,
     "metadata": {},
     "output_type": "execute_result"
    }
   ],
   "source": [
    "df1.isnull().sum()"
   ]
  },
  {
   "cell_type": "markdown",
   "metadata": {},
   "source": [
    "b. Replace the missing values in 'price' column with median of 'price' using fillna() method."
   ]
  },
  {
   "cell_type": "code",
   "execution_count": 29,
   "metadata": {},
   "outputs": [],
   "source": [
    "df1['price'].fillna(df1['price'].median(), inplace=True)"
   ]
  },
  {
   "cell_type": "markdown",
   "metadata": {},
   "source": [
    "c. Replace the missing values in 'number_of_reviews' column with average of 'number_of_reviews' using fillna() method."
   ]
  },
  {
   "cell_type": "code",
   "execution_count": 31,
   "metadata": {},
   "outputs": [],
   "source": [
    "df1['number_of_reviews'].fillna(df1['number_of_reviews'].mean(), inplace=True)"
   ]
  },
  {
   "cell_type": "markdown",
   "metadata": {},
   "source": [
    "d. Replace the missing value in 'has_availability' column with 'null'"
   ]
  },
  {
   "cell_type": "code",
   "execution_count": 33,
   "metadata": {},
   "outputs": [],
   "source": [
    "df1['has_availability'].fillna('null', inplace=True)"
   ]
  },
  {
   "cell_type": "markdown",
   "metadata": {},
   "source": [
    "e. Show again how many missing values we have in each column in df1 dataframe"
   ]
  },
  {
   "cell_type": "code",
   "execution_count": 35,
   "metadata": {},
   "outputs": [
    {
     "data": {
      "text/plain": [
       "property id                 0\n",
       "neighborhood and city       0\n",
       "country                     0\n",
       "property_type               0\n",
       "bedrooms                    0\n",
       "bed_type                    0\n",
       "price                       0\n",
       "has_availability            0\n",
       "number_of_reviews           0\n",
       "review_date              2943\n",
       "dtype: int64"
      ]
     },
     "execution_count": 35,
     "metadata": {},
     "output_type": "execute_result"
    }
   ],
   "source": [
    "df1.isnull().sum()"
   ]
  },
  {
   "cell_type": "markdown",
   "metadata": {},
   "source": [
    "f. Drop the rows that have missing values in the df1 dataframe"
   ]
  },
  {
   "cell_type": "code",
   "execution_count": 37,
   "metadata": {},
   "outputs": [],
   "source": [
    "df1.dropna(inplace = True)"
   ]
  },
  {
   "cell_type": "markdown",
   "metadata": {},
   "source": [
    "g. Display the shape (number of rows and number of columns) of df1 dataframe"
   ]
  },
  {
   "cell_type": "code",
   "execution_count": 39,
   "metadata": {},
   "outputs": [
    {
     "data": {
      "text/plain": [
       "(13634, 10)"
      ]
     },
     "execution_count": 39,
     "metadata": {},
     "output_type": "execute_result"
    }
   ],
   "source": [
    "df1.shape"
   ]
  },
  {
   "cell_type": "markdown",
   "metadata": {},
   "source": [
    "h. Show again how many missing values we have in each column in df1 dataframe"
   ]
  },
  {
   "cell_type": "code",
   "execution_count": 41,
   "metadata": {},
   "outputs": [
    {
     "data": {
      "text/plain": [
       "property id              0\n",
       "neighborhood and city    0\n",
       "country                  0\n",
       "property_type            0\n",
       "bedrooms                 0\n",
       "bed_type                 0\n",
       "price                    0\n",
       "has_availability         0\n",
       "number_of_reviews        0\n",
       "review_date              0\n",
       "dtype: int64"
      ]
     },
     "execution_count": 41,
     "metadata": {},
     "output_type": "execute_result"
    }
   ],
   "source": [
    "df1.isnull().sum()"
   ]
  },
  {
   "cell_type": "markdown",
   "metadata": {},
   "source": [
    "**Question 6: Removing redundant spaces in the middle of String**"
   ]
  },
  {
   "cell_type": "markdown",
   "metadata": {},
   "source": [
    "a. Display unique values in 'bed_type' column in df1 dataframe"
   ]
  },
  {
   "cell_type": "code",
   "execution_count": 44,
   "metadata": {},
   "outputs": [
    {
     "data": {
      "text/plain": [
       "array(['Real Bed', 'Pull-out Sofa', 'Futon', 'Couch', 'Airbed',\n",
       "       'Real      Bed', 'Real    Bed', 'Real   Bed'], dtype=object)"
      ]
     },
     "execution_count": 44,
     "metadata": {},
     "output_type": "execute_result"
    }
   ],
   "source": [
    "df1['bed_type'].unique()"
   ]
  },
  {
   "cell_type": "markdown",
   "metadata": {},
   "source": [
    "\n",
    "b. In the following, type a code to remove redundant spaces in the middle of String in 'bed_type' column"
   ]
  },
  {
   "cell_type": "code",
   "execution_count": 46,
   "metadata": {},
   "outputs": [],
   "source": [
    "df1['bed_type']= df1['bed_type'].str.replace('\\s+', ' ', regex=True)"
   ]
  },
  {
   "cell_type": "markdown",
   "metadata": {},
   "source": [
    "c. Display unique values in 'bed_type' column in df1 dataframe to make sure the spaces are removed"
   ]
  },
  {
   "cell_type": "code",
   "execution_count": 48,
   "metadata": {},
   "outputs": [
    {
     "data": {
      "text/plain": [
       "array(['Real Bed', 'Pull-out Sofa', 'Futon', 'Couch', 'Airbed'],\n",
       "      dtype=object)"
      ]
     },
     "execution_count": 48,
     "metadata": {},
     "output_type": "execute_result"
    }
   ],
   "source": [
    "df1['bed_type'].unique()"
   ]
  },
  {
   "cell_type": "markdown",
   "metadata": {},
   "source": [
    "**Question 7: Splitting data into two columns**"
   ]
  },
  {
   "cell_type": "markdown",
   "metadata": {},
   "source": [
    "a. Split 'neighborhood and city' column into two columns: 'neighborhood' column and 'city' column"
   ]
  },
  {
   "cell_type": "code",
   "execution_count": 51,
   "metadata": {},
   "outputs": [],
   "source": [
    "df1[['neighborhood', 'city']] = df1['neighborhood and city'].str.split(': ', expand=True)"
   ]
  },
  {
   "cell_type": "markdown",
   "metadata": {},
   "source": [
    "b. Display the first 2 rows of df1 dataframe"
   ]
  },
  {
   "cell_type": "code",
   "execution_count": 53,
   "metadata": {},
   "outputs": [
    {
     "data": {
      "text/html": [
       "<div>\n",
       "<style scoped>\n",
       "    .dataframe tbody tr th:only-of-type {\n",
       "        vertical-align: middle;\n",
       "    }\n",
       "\n",
       "    .dataframe tbody tr th {\n",
       "        vertical-align: top;\n",
       "    }\n",
       "\n",
       "    .dataframe thead th {\n",
       "        text-align: right;\n",
       "    }\n",
       "</style>\n",
       "<table border=\"1\" class=\"dataframe\">\n",
       "  <thead>\n",
       "    <tr style=\"text-align: right;\">\n",
       "      <th></th>\n",
       "      <th>property id</th>\n",
       "      <th>neighborhood and city</th>\n",
       "      <th>country</th>\n",
       "      <th>property_type</th>\n",
       "      <th>bedrooms</th>\n",
       "      <th>bed_type</th>\n",
       "      <th>price</th>\n",
       "      <th>has_availability</th>\n",
       "      <th>number_of_reviews</th>\n",
       "      <th>review_date</th>\n",
       "      <th>neighborhood</th>\n",
       "      <th>city</th>\n",
       "    </tr>\n",
       "  </thead>\n",
       "  <tbody>\n",
       "    <tr>\n",
       "      <th>0</th>\n",
       "      <td>27489679</td>\n",
       "      <td>Adlershof: Berlin</td>\n",
       "      <td>Germany</td>\n",
       "      <td>Apartment</td>\n",
       "      <td>0- beds</td>\n",
       "      <td>Real Bed</td>\n",
       "      <td>43.0</td>\n",
       "      <td>t</td>\n",
       "      <td>40.0</td>\n",
       "      <td>1/3/2016</td>\n",
       "      <td>Adlershof</td>\n",
       "      <td>Berlin</td>\n",
       "    </tr>\n",
       "    <tr>\n",
       "      <th>1</th>\n",
       "      <td>25020552</td>\n",
       "      <td>Adlershof: Berlin</td>\n",
       "      <td>Germany</td>\n",
       "      <td>Apartment</td>\n",
       "      <td>0- beds</td>\n",
       "      <td>Real Bed</td>\n",
       "      <td>25.0</td>\n",
       "      <td>t</td>\n",
       "      <td>4.0</td>\n",
       "      <td>1/12/2016</td>\n",
       "      <td>Adlershof</td>\n",
       "      <td>Berlin</td>\n",
       "    </tr>\n",
       "  </tbody>\n",
       "</table>\n",
       "</div>"
      ],
      "text/plain": [
       "   property id neighborhood and city  country property_type bedrooms  \\\n",
       "0     27489679     Adlershof: Berlin  Germany     Apartment  0- beds   \n",
       "1     25020552     Adlershof: Berlin  Germany     Apartment  0- beds   \n",
       "\n",
       "   bed_type  price has_availability  number_of_reviews review_date  \\\n",
       "0  Real Bed   43.0                t               40.0    1/3/2016   \n",
       "1  Real Bed   25.0                t                4.0   1/12/2016   \n",
       "\n",
       "  neighborhood    city  \n",
       "0    Adlershof  Berlin  \n",
       "1    Adlershof  Berlin  "
      ]
     },
     "execution_count": 53,
     "metadata": {},
     "output_type": "execute_result"
    }
   ],
   "source": [
    "df1.head(2)"
   ]
  },
  {
   "cell_type": "markdown",
   "metadata": {},
   "source": [
    "c. Drop 'neighborhood and city' column from df1 dataframe"
   ]
  },
  {
   "cell_type": "code",
   "execution_count": 55,
   "metadata": {},
   "outputs": [],
   "source": [
    "df1.drop(['neighborhood and city'], axis=1, inplace=True)"
   ]
  },
  {
   "cell_type": "markdown",
   "metadata": {},
   "source": [
    "d. Display the first 2 rows of df1 dataframe"
   ]
  },
  {
   "cell_type": "code",
   "execution_count": 57,
   "metadata": {},
   "outputs": [
    {
     "data": {
      "text/html": [
       "<div>\n",
       "<style scoped>\n",
       "    .dataframe tbody tr th:only-of-type {\n",
       "        vertical-align: middle;\n",
       "    }\n",
       "\n",
       "    .dataframe tbody tr th {\n",
       "        vertical-align: top;\n",
       "    }\n",
       "\n",
       "    .dataframe thead th {\n",
       "        text-align: right;\n",
       "    }\n",
       "</style>\n",
       "<table border=\"1\" class=\"dataframe\">\n",
       "  <thead>\n",
       "    <tr style=\"text-align: right;\">\n",
       "      <th></th>\n",
       "      <th>property id</th>\n",
       "      <th>country</th>\n",
       "      <th>property_type</th>\n",
       "      <th>bedrooms</th>\n",
       "      <th>bed_type</th>\n",
       "      <th>price</th>\n",
       "      <th>has_availability</th>\n",
       "      <th>number_of_reviews</th>\n",
       "      <th>review_date</th>\n",
       "      <th>neighborhood</th>\n",
       "      <th>city</th>\n",
       "    </tr>\n",
       "  </thead>\n",
       "  <tbody>\n",
       "    <tr>\n",
       "      <th>0</th>\n",
       "      <td>27489679</td>\n",
       "      <td>Germany</td>\n",
       "      <td>Apartment</td>\n",
       "      <td>0- beds</td>\n",
       "      <td>Real Bed</td>\n",
       "      <td>43.0</td>\n",
       "      <td>t</td>\n",
       "      <td>40.0</td>\n",
       "      <td>1/3/2016</td>\n",
       "      <td>Adlershof</td>\n",
       "      <td>Berlin</td>\n",
       "    </tr>\n",
       "    <tr>\n",
       "      <th>1</th>\n",
       "      <td>25020552</td>\n",
       "      <td>Germany</td>\n",
       "      <td>Apartment</td>\n",
       "      <td>0- beds</td>\n",
       "      <td>Real Bed</td>\n",
       "      <td>25.0</td>\n",
       "      <td>t</td>\n",
       "      <td>4.0</td>\n",
       "      <td>1/12/2016</td>\n",
       "      <td>Adlershof</td>\n",
       "      <td>Berlin</td>\n",
       "    </tr>\n",
       "  </tbody>\n",
       "</table>\n",
       "</div>"
      ],
      "text/plain": [
       "   property id  country property_type bedrooms  bed_type  price  \\\n",
       "0     27489679  Germany     Apartment  0- beds  Real Bed   43.0   \n",
       "1     25020552  Germany     Apartment  0- beds  Real Bed   25.0   \n",
       "\n",
       "  has_availability  number_of_reviews review_date neighborhood    city  \n",
       "0                t               40.0    1/3/2016    Adlershof  Berlin  \n",
       "1                t                4.0   1/12/2016    Adlershof  Berlin  "
      ]
     },
     "execution_count": 57,
     "metadata": {},
     "output_type": "execute_result"
    }
   ],
   "source": [
    "df1.head(2)"
   ]
  },
  {
   "cell_type": "markdown",
   "metadata": {},
   "source": [
    "**Question 8: Fixing the 'has_availability' Column**"
   ]
  },
  {
   "cell_type": "markdown",
   "metadata": {},
   "source": [
    "a. Show unique values in 'has_availability' column in df1 dataframe"
   ]
  },
  {
   "cell_type": "code",
   "execution_count": 60,
   "metadata": {},
   "outputs": [
    {
     "data": {
      "text/plain": [
       "array(['t', 'TRUE', 'FALSE', 'f', 'null'], dtype=object)"
      ]
     },
     "execution_count": 60,
     "metadata": {},
     "output_type": "execute_result"
    }
   ],
   "source": [
    "df1['has_availability'].unique()"
   ]
  },
  {
   "cell_type": "markdown",
   "metadata": {},
   "source": [
    "b. Use .loc method to create a new column 'has_availability1' that:\n",
    "\n",
    "    * Sets any t, or True values to True\n",
    "    * Sets any f, or False values to False\n",
    "    * Sets null to Unknown"
   ]
  },
  {
   "cell_type": "code",
   "execution_count": 62,
   "metadata": {},
   "outputs": [],
   "source": [
    "df1.loc[(df1['has_availability'] == 't') |  (df1['has_availability'] == 'True') , 'has_availability1'] = 'True'\n",
    "df1.loc[(df1['has_availability'] == 'F') |  (df1['has_availability'] == 'False'),'has_availability1'] = 'False'\n",
    "df1.loc[(df1['has_availability'] == 'null') ,'has_availability1'] = 'Unknown'"
   ]
  },
  {
   "cell_type": "markdown",
   "metadata": {},
   "source": [
    "c. Display the first 2 rows of df1 dataframe"
   ]
  },
  {
   "cell_type": "code",
   "execution_count": 64,
   "metadata": {},
   "outputs": [
    {
     "data": {
      "text/html": [
       "<div>\n",
       "<style scoped>\n",
       "    .dataframe tbody tr th:only-of-type {\n",
       "        vertical-align: middle;\n",
       "    }\n",
       "\n",
       "    .dataframe tbody tr th {\n",
       "        vertical-align: top;\n",
       "    }\n",
       "\n",
       "    .dataframe thead th {\n",
       "        text-align: right;\n",
       "    }\n",
       "</style>\n",
       "<table border=\"1\" class=\"dataframe\">\n",
       "  <thead>\n",
       "    <tr style=\"text-align: right;\">\n",
       "      <th></th>\n",
       "      <th>property id</th>\n",
       "      <th>country</th>\n",
       "      <th>property_type</th>\n",
       "      <th>bedrooms</th>\n",
       "      <th>bed_type</th>\n",
       "      <th>price</th>\n",
       "      <th>has_availability</th>\n",
       "      <th>number_of_reviews</th>\n",
       "      <th>review_date</th>\n",
       "      <th>neighborhood</th>\n",
       "      <th>city</th>\n",
       "      <th>has_availability1</th>\n",
       "    </tr>\n",
       "  </thead>\n",
       "  <tbody>\n",
       "    <tr>\n",
       "      <th>0</th>\n",
       "      <td>27489679</td>\n",
       "      <td>Germany</td>\n",
       "      <td>Apartment</td>\n",
       "      <td>0- beds</td>\n",
       "      <td>Real Bed</td>\n",
       "      <td>43.0</td>\n",
       "      <td>t</td>\n",
       "      <td>40.0</td>\n",
       "      <td>1/3/2016</td>\n",
       "      <td>Adlershof</td>\n",
       "      <td>Berlin</td>\n",
       "      <td>True</td>\n",
       "    </tr>\n",
       "    <tr>\n",
       "      <th>1</th>\n",
       "      <td>25020552</td>\n",
       "      <td>Germany</td>\n",
       "      <td>Apartment</td>\n",
       "      <td>0- beds</td>\n",
       "      <td>Real Bed</td>\n",
       "      <td>25.0</td>\n",
       "      <td>t</td>\n",
       "      <td>4.0</td>\n",
       "      <td>1/12/2016</td>\n",
       "      <td>Adlershof</td>\n",
       "      <td>Berlin</td>\n",
       "      <td>True</td>\n",
       "    </tr>\n",
       "  </tbody>\n",
       "</table>\n",
       "</div>"
      ],
      "text/plain": [
       "   property id  country property_type bedrooms  bed_type  price  \\\n",
       "0     27489679  Germany     Apartment  0- beds  Real Bed   43.0   \n",
       "1     25020552  Germany     Apartment  0- beds  Real Bed   25.0   \n",
       "\n",
       "  has_availability  number_of_reviews review_date neighborhood    city  \\\n",
       "0                t               40.0    1/3/2016    Adlershof  Berlin   \n",
       "1                t                4.0   1/12/2016    Adlershof  Berlin   \n",
       "\n",
       "  has_availability1  \n",
       "0              True  \n",
       "1              True  "
      ]
     },
     "execution_count": 64,
     "metadata": {},
     "output_type": "execute_result"
    }
   ],
   "source": [
    "df1.head(2)"
   ]
  },
  {
   "cell_type": "markdown",
   "metadata": {},
   "source": [
    "d. Create the frequency table for 'has_availability1' using value_counts()"
   ]
  },
  {
   "cell_type": "code",
   "execution_count": 66,
   "metadata": {},
   "outputs": [
    {
     "data": {
      "text/plain": [
       "has_availability1\n",
       "True       13155\n",
       "Unknown       28\n",
       "Name: count, dtype: int64"
      ]
     },
     "execution_count": 66,
     "metadata": {},
     "output_type": "execute_result"
    }
   ],
   "source": [
    "df1['has_availability1'].value_counts()"
   ]
  },
  {
   "cell_type": "markdown",
   "metadata": {},
   "source": [
    "e. Drop 'has_availability' column from df1 dataframe"
   ]
  },
  {
   "cell_type": "code",
   "execution_count": 68,
   "metadata": {},
   "outputs": [],
   "source": [
    "df1.drop(['has_availability'], axis=1, inplace=True)"
   ]
  },
  {
   "cell_type": "markdown",
   "metadata": {},
   "source": [
    "f. Display the first 2 rows of df1 dataframe"
   ]
  },
  {
   "cell_type": "code",
   "execution_count": 70,
   "metadata": {},
   "outputs": [
    {
     "data": {
      "text/html": [
       "<div>\n",
       "<style scoped>\n",
       "    .dataframe tbody tr th:only-of-type {\n",
       "        vertical-align: middle;\n",
       "    }\n",
       "\n",
       "    .dataframe tbody tr th {\n",
       "        vertical-align: top;\n",
       "    }\n",
       "\n",
       "    .dataframe thead th {\n",
       "        text-align: right;\n",
       "    }\n",
       "</style>\n",
       "<table border=\"1\" class=\"dataframe\">\n",
       "  <thead>\n",
       "    <tr style=\"text-align: right;\">\n",
       "      <th></th>\n",
       "      <th>property id</th>\n",
       "      <th>country</th>\n",
       "      <th>property_type</th>\n",
       "      <th>bedrooms</th>\n",
       "      <th>bed_type</th>\n",
       "      <th>price</th>\n",
       "      <th>number_of_reviews</th>\n",
       "      <th>review_date</th>\n",
       "      <th>neighborhood</th>\n",
       "      <th>city</th>\n",
       "      <th>has_availability1</th>\n",
       "    </tr>\n",
       "  </thead>\n",
       "  <tbody>\n",
       "    <tr>\n",
       "      <th>0</th>\n",
       "      <td>27489679</td>\n",
       "      <td>Germany</td>\n",
       "      <td>Apartment</td>\n",
       "      <td>0- beds</td>\n",
       "      <td>Real Bed</td>\n",
       "      <td>43.0</td>\n",
       "      <td>40.0</td>\n",
       "      <td>1/3/2016</td>\n",
       "      <td>Adlershof</td>\n",
       "      <td>Berlin</td>\n",
       "      <td>True</td>\n",
       "    </tr>\n",
       "    <tr>\n",
       "      <th>1</th>\n",
       "      <td>25020552</td>\n",
       "      <td>Germany</td>\n",
       "      <td>Apartment</td>\n",
       "      <td>0- beds</td>\n",
       "      <td>Real Bed</td>\n",
       "      <td>25.0</td>\n",
       "      <td>4.0</td>\n",
       "      <td>1/12/2016</td>\n",
       "      <td>Adlershof</td>\n",
       "      <td>Berlin</td>\n",
       "      <td>True</td>\n",
       "    </tr>\n",
       "  </tbody>\n",
       "</table>\n",
       "</div>"
      ],
      "text/plain": [
       "   property id  country property_type bedrooms  bed_type  price  \\\n",
       "0     27489679  Germany     Apartment  0- beds  Real Bed   43.0   \n",
       "1     25020552  Germany     Apartment  0- beds  Real Bed   25.0   \n",
       "\n",
       "   number_of_reviews review_date neighborhood    city has_availability1  \n",
       "0               40.0    1/3/2016    Adlershof  Berlin              True  \n",
       "1                4.0   1/12/2016    Adlershof  Berlin              True  "
      ]
     },
     "execution_count": 70,
     "metadata": {},
     "output_type": "execute_result"
    }
   ],
   "source": [
    "df1.head(2)"
   ]
  },
  {
   "cell_type": "markdown",
   "metadata": {},
   "source": [
    "**Question 9: Extracting Numeric Data from Text**"
   ]
  },
  {
   "cell_type": "markdown",
   "metadata": {},
   "source": [
    "a. Use replace() method to extract the numeric part from 'bedrooms' column, convert it to **integer**, and save it to a new column named 'bedrooms1' . Display the first 2 rows of df1.\n",
    "   * For example if we have 0- beds in 'bedrooms' column, we should have 0 in 'bedrooms1' column."
   ]
  },
  {
   "cell_type": "markdown",
   "metadata": {},
   "source": [
    "b. Calculate average number of bedrooms in bedrooms1 column for each neighborhood, sort it in descending order, and display the first five rows in the output."
   ]
  },
  {
   "cell_type": "code",
   "execution_count": 74,
   "metadata": {},
   "outputs": [],
   "source": [
    "df1['bedrooms'] = df1['bedrooms'].str.replace('- beds', '').astype(int)"
   ]
  },
  {
   "cell_type": "code",
   "execution_count": 75,
   "metadata": {},
   "outputs": [
    {
     "data": {
      "text/html": [
       "<div>\n",
       "<style scoped>\n",
       "    .dataframe tbody tr th:only-of-type {\n",
       "        vertical-align: middle;\n",
       "    }\n",
       "\n",
       "    .dataframe tbody tr th {\n",
       "        vertical-align: top;\n",
       "    }\n",
       "\n",
       "    .dataframe thead th {\n",
       "        text-align: right;\n",
       "    }\n",
       "</style>\n",
       "<table border=\"1\" class=\"dataframe\">\n",
       "  <thead>\n",
       "    <tr style=\"text-align: right;\">\n",
       "      <th></th>\n",
       "      <th>property id</th>\n",
       "      <th>country</th>\n",
       "      <th>property_type</th>\n",
       "      <th>bedrooms</th>\n",
       "      <th>bed_type</th>\n",
       "      <th>price</th>\n",
       "      <th>number_of_reviews</th>\n",
       "      <th>review_date</th>\n",
       "      <th>neighborhood</th>\n",
       "      <th>city</th>\n",
       "      <th>has_availability1</th>\n",
       "    </tr>\n",
       "  </thead>\n",
       "  <tbody>\n",
       "    <tr>\n",
       "      <th>0</th>\n",
       "      <td>27489679</td>\n",
       "      <td>Germany</td>\n",
       "      <td>Apartment</td>\n",
       "      <td>0</td>\n",
       "      <td>Real Bed</td>\n",
       "      <td>43.0</td>\n",
       "      <td>40.0</td>\n",
       "      <td>1/3/2016</td>\n",
       "      <td>Adlershof</td>\n",
       "      <td>Berlin</td>\n",
       "      <td>True</td>\n",
       "    </tr>\n",
       "    <tr>\n",
       "      <th>1</th>\n",
       "      <td>25020552</td>\n",
       "      <td>Germany</td>\n",
       "      <td>Apartment</td>\n",
       "      <td>0</td>\n",
       "      <td>Real Bed</td>\n",
       "      <td>25.0</td>\n",
       "      <td>4.0</td>\n",
       "      <td>1/12/2016</td>\n",
       "      <td>Adlershof</td>\n",
       "      <td>Berlin</td>\n",
       "      <td>True</td>\n",
       "    </tr>\n",
       "    <tr>\n",
       "      <th>2</th>\n",
       "      <td>1032446</td>\n",
       "      <td>Germany</td>\n",
       "      <td>Apartment</td>\n",
       "      <td>1</td>\n",
       "      <td>Real Bed</td>\n",
       "      <td>17.0</td>\n",
       "      <td>2.0</td>\n",
       "      <td>9/11/2015</td>\n",
       "      <td>Adlershof</td>\n",
       "      <td>Berlin</td>\n",
       "      <td>True</td>\n",
       "    </tr>\n",
       "    <tr>\n",
       "      <th>4</th>\n",
       "      <td>19844167</td>\n",
       "      <td>Germany</td>\n",
       "      <td>Apartment</td>\n",
       "      <td>1</td>\n",
       "      <td>Real Bed</td>\n",
       "      <td>75.0</td>\n",
       "      <td>2.0</td>\n",
       "      <td>7/23/2018</td>\n",
       "      <td>Adlershof</td>\n",
       "      <td>Berlin</td>\n",
       "      <td>True</td>\n",
       "    </tr>\n",
       "    <tr>\n",
       "      <th>5</th>\n",
       "      <td>21563130</td>\n",
       "      <td>Germany</td>\n",
       "      <td>Apartment</td>\n",
       "      <td>1</td>\n",
       "      <td>Real Bed</td>\n",
       "      <td>55.0</td>\n",
       "      <td>4.0</td>\n",
       "      <td>7/16/2018</td>\n",
       "      <td>Adlershof</td>\n",
       "      <td>Berlin</td>\n",
       "      <td>True</td>\n",
       "    </tr>\n",
       "  </tbody>\n",
       "</table>\n",
       "</div>"
      ],
      "text/plain": [
       "   property id  country property_type  bedrooms  bed_type  price  \\\n",
       "0     27489679  Germany     Apartment         0  Real Bed   43.0   \n",
       "1     25020552  Germany     Apartment         0  Real Bed   25.0   \n",
       "2      1032446  Germany     Apartment         1  Real Bed   17.0   \n",
       "4     19844167  Germany     Apartment         1  Real Bed   75.0   \n",
       "5     21563130  Germany     Apartment         1  Real Bed   55.0   \n",
       "\n",
       "   number_of_reviews review_date neighborhood    city has_availability1  \n",
       "0               40.0    1/3/2016    Adlershof  Berlin              True  \n",
       "1                4.0   1/12/2016    Adlershof  Berlin              True  \n",
       "2                2.0   9/11/2015    Adlershof  Berlin              True  \n",
       "4                2.0   7/23/2018    Adlershof  Berlin              True  \n",
       "5                4.0   7/16/2018    Adlershof  Berlin              True  "
      ]
     },
     "execution_count": 75,
     "metadata": {},
     "output_type": "execute_result"
    }
   ],
   "source": [
    "df1.head()"
   ]
  },
  {
   "cell_type": "markdown",
   "metadata": {},
   "source": [
    "**Question 10: Ensuring Data make sense and replacing it with valid values if needed**\n",
    "\n",
    "a. Read in the berlin_neighborhoods.csv file into  dataframe called valid_df. Display the first 5 rows of valid_df."
   ]
  },
  {
   "cell_type": "code",
   "execution_count": 77,
   "metadata": {},
   "outputs": [
    {
     "data": {
      "text/html": [
       "<div>\n",
       "<style scoped>\n",
       "    .dataframe tbody tr th:only-of-type {\n",
       "        vertical-align: middle;\n",
       "    }\n",
       "\n",
       "    .dataframe tbody tr th {\n",
       "        vertical-align: top;\n",
       "    }\n",
       "\n",
       "    .dataframe thead th {\n",
       "        text-align: right;\n",
       "    }\n",
       "</style>\n",
       "<table border=\"1\" class=\"dataframe\">\n",
       "  <thead>\n",
       "    <tr style=\"text-align: right;\">\n",
       "      <th></th>\n",
       "      <th>property id</th>\n",
       "      <th>neighborhood and city</th>\n",
       "      <th>country</th>\n",
       "      <th>property_type</th>\n",
       "      <th>bedrooms</th>\n",
       "      <th>bed_type</th>\n",
       "      <th>price</th>\n",
       "      <th>guests_included</th>\n",
       "      <th>maximum_nights</th>\n",
       "      <th>has_availability</th>\n",
       "      <th>number_of_reviews</th>\n",
       "      <th>review_date</th>\n",
       "    </tr>\n",
       "  </thead>\n",
       "  <tbody>\n",
       "    <tr>\n",
       "      <th>0</th>\n",
       "      <td>27489679</td>\n",
       "      <td>Adlershof: Berlin</td>\n",
       "      <td>Germany</td>\n",
       "      <td>Apartment</td>\n",
       "      <td>0- beds</td>\n",
       "      <td>Real Bed</td>\n",
       "      <td>43.0</td>\n",
       "      <td>1.0</td>\n",
       "      <td>1125</td>\n",
       "      <td>t</td>\n",
       "      <td>40.0</td>\n",
       "      <td>1/3/2016</td>\n",
       "    </tr>\n",
       "    <tr>\n",
       "      <th>1</th>\n",
       "      <td>25020552</td>\n",
       "      <td>Adlershof: Berlin</td>\n",
       "      <td>Germany</td>\n",
       "      <td>Apartment</td>\n",
       "      <td>0- beds</td>\n",
       "      <td>Real Bed</td>\n",
       "      <td>25.0</td>\n",
       "      <td>1.0</td>\n",
       "      <td>1125</td>\n",
       "      <td>t</td>\n",
       "      <td>4.0</td>\n",
       "      <td>1/12/2016</td>\n",
       "    </tr>\n",
       "    <tr>\n",
       "      <th>2</th>\n",
       "      <td>1032446</td>\n",
       "      <td>Adlershof: Berlin</td>\n",
       "      <td>Germany</td>\n",
       "      <td>Apartment</td>\n",
       "      <td>1- beds</td>\n",
       "      <td>Real Bed</td>\n",
       "      <td>17.0</td>\n",
       "      <td>1.0</td>\n",
       "      <td>30</td>\n",
       "      <td>t</td>\n",
       "      <td>2.0</td>\n",
       "      <td>9/11/2015</td>\n",
       "    </tr>\n",
       "    <tr>\n",
       "      <th>3</th>\n",
       "      <td>1032446</td>\n",
       "      <td>Adlershof: Berlin</td>\n",
       "      <td>Germany</td>\n",
       "      <td>Apartment</td>\n",
       "      <td>1- beds</td>\n",
       "      <td>Real Bed</td>\n",
       "      <td>17.0</td>\n",
       "      <td>1.0</td>\n",
       "      <td>30</td>\n",
       "      <td>t</td>\n",
       "      <td>2.0</td>\n",
       "      <td>9/11/2015</td>\n",
       "    </tr>\n",
       "    <tr>\n",
       "      <th>4</th>\n",
       "      <td>19844167</td>\n",
       "      <td>Adlershof: Berlin</td>\n",
       "      <td>Germany</td>\n",
       "      <td>Apartment</td>\n",
       "      <td>1- beds</td>\n",
       "      <td>Real Bed</td>\n",
       "      <td>75.0</td>\n",
       "      <td>2.0</td>\n",
       "      <td>14</td>\n",
       "      <td>t</td>\n",
       "      <td>2.0</td>\n",
       "      <td>7/23/2018</td>\n",
       "    </tr>\n",
       "  </tbody>\n",
       "</table>\n",
       "</div>"
      ],
      "text/plain": [
       "   property id neighborhood and city  country property_type bedrooms  \\\n",
       "0     27489679     Adlershof: Berlin  Germany     Apartment  0- beds   \n",
       "1     25020552     Adlershof: Berlin  Germany     Apartment  0- beds   \n",
       "2      1032446     Adlershof: Berlin  Germany     Apartment  1- beds   \n",
       "3      1032446     Adlershof: Berlin  Germany     Apartment  1- beds   \n",
       "4     19844167     Adlershof: Berlin  Germany     Apartment  1- beds   \n",
       "\n",
       "   bed_type  price  guests_included  maximum_nights has_availability  \\\n",
       "0  Real Bed   43.0              1.0            1125                t   \n",
       "1  Real Bed   25.0              1.0            1125                t   \n",
       "2  Real Bed   17.0              1.0              30                t   \n",
       "3  Real Bed   17.0              1.0              30                t   \n",
       "4  Real Bed   75.0              2.0              14                t   \n",
       "\n",
       "   number_of_reviews review_date  \n",
       "0               40.0    1/3/2016  \n",
       "1                4.0   1/12/2016  \n",
       "2                2.0   9/11/2015  \n",
       "3                2.0   9/11/2015  \n",
       "4                2.0   7/23/2018  "
      ]
     },
     "execution_count": 77,
     "metadata": {},
     "output_type": "execute_result"
    }
   ],
   "source": [
    "valid_df = pd.read_csv('berlin_neighborhoods.csv')\n",
    "df.head()"
   ]
  },
  {
   "cell_type": "markdown",
   "metadata": {},
   "source": [
    "b. Use .loc and isin method to create a new column called 'valid_neighborhood' in the df1 dataframe. If the 'neighborhood' in the df1 dataframe is valid, the value for 'valid_neighborhood' will be 1. If the 'neighborhood' in the df1 dataframe is invalid, the value for 'valid_neighborhood' will be 0. "
   ]
  },
  {
   "cell_type": "code",
   "execution_count": 79,
   "metadata": {},
   "outputs": [],
   "source": [
    "df1.loc[df1['neighborhood'].isin(valid_df['berlin_neighborhoods']),'valid_neighborhood'] = 1\n",
    "df1.loc[~df1['neighborhood'].isin(valid_df['berlin_neighborhoods']),'valid_neighborhood'] = 0"
   ]
  },
  {
   "cell_type": "markdown",
   "metadata": {},
   "source": [
    "c. Explain (in detail) how the above code works."
   ]
  },
  {
   "cell_type": "code",
   "execution_count": 180,
   "metadata": {},
   "outputs": [],
   "source": [
    "#The code creates or updates a column called 'valid_neighborhood' in df1.\n",
    "#If the neighborhood in df1 exists in valid_df['berlin_neighborhoods'], it assigns 1 to the column (valid).\n",
    "#If it doesn't exist, it assigns 0 (invalid)."
   ]
  },
  {
   "cell_type": "markdown",
   "metadata": {},
   "source": [
    "d. Create a frequency table to display the number of valid neighborhoods and the number of invalid neighborhoods in df1 dataframe "
   ]
  },
  {
   "cell_type": "code",
   "execution_count": 82,
   "metadata": {},
   "outputs": [
    {
     "data": {
      "text/plain": [
       "valid_neighborhood\n",
       "1.0    13631\n",
       "0.0        3\n",
       "Name: count, dtype: int64"
      ]
     },
     "execution_count": 82,
     "metadata": {},
     "output_type": "execute_result"
    }
   ],
   "source": [
    "df1['valid_neighborhood'].value_counts()"
   ]
  },
  {
   "cell_type": "markdown",
   "metadata": {},
   "source": [
    "e. Subset the df1 dataframe to show 'neighborhood' column and 'valid_neighborhood' column for which valid_neighborhood's value is 0 (the output of this code will show you the invalid neighborhood)"
   ]
  },
  {
   "cell_type": "code",
   "execution_count": 84,
   "metadata": {},
   "outputs": [
    {
     "data": {
      "text/html": [
       "<div>\n",
       "<style scoped>\n",
       "    .dataframe tbody tr th:only-of-type {\n",
       "        vertical-align: middle;\n",
       "    }\n",
       "\n",
       "    .dataframe tbody tr th {\n",
       "        vertical-align: top;\n",
       "    }\n",
       "\n",
       "    .dataframe thead th {\n",
       "        text-align: right;\n",
       "    }\n",
       "</style>\n",
       "<table border=\"1\" class=\"dataframe\">\n",
       "  <thead>\n",
       "    <tr style=\"text-align: right;\">\n",
       "      <th></th>\n",
       "      <th>neighborhood</th>\n",
       "      <th>valid_neighborhood</th>\n",
       "    </tr>\n",
       "  </thead>\n",
       "  <tbody>\n",
       "    <tr>\n",
       "      <th>2512</th>\n",
       "      <td>Friedrich</td>\n",
       "      <td>0.0</td>\n",
       "    </tr>\n",
       "    <tr>\n",
       "      <th>15172</th>\n",
       "      <td>Wedy</td>\n",
       "      <td>0.0</td>\n",
       "    </tr>\n",
       "    <tr>\n",
       "      <th>16578</th>\n",
       "      <td>Zehle</td>\n",
       "      <td>0.0</td>\n",
       "    </tr>\n",
       "  </tbody>\n",
       "</table>\n",
       "</div>"
      ],
      "text/plain": [
       "      neighborhood  valid_neighborhood\n",
       "2512     Friedrich                 0.0\n",
       "15172         Wedy                 0.0\n",
       "16578        Zehle                 0.0"
      ]
     },
     "execution_count": 84,
     "metadata": {},
     "output_type": "execute_result"
    }
   ],
   "source": [
    "df1[['neighborhood', 'valid_neighborhood']].loc[df1['valid_neighborhood'] == 0]"
   ]
  },
  {
   "cell_type": "markdown",
   "metadata": {},
   "source": [
    "f. In the following, use .loc() method to replace 'Zehle' neighborhood with 'Zehlendorf'."
   ]
  },
  {
   "cell_type": "code",
   "execution_count": 86,
   "metadata": {},
   "outputs": [],
   "source": [
    "df1.loc[df1['neighborhood']=='Zehlendorf', 'neighborhood'] = 'Zehle'"
   ]
  },
  {
   "cell_type": "markdown",
   "metadata": {},
   "source": [
    "g. In the following, use .loc() method to set 'valid_neighborhood' column's value to 1 if the neighborhood is 'Zehlendorf'.\n",
    "\n",
    "**Note:** since we replaced 'Zehle' with 'Zehlendorf', we want to make sure that its value in valid_neighborhood column is 1."
   ]
  },
  {
   "cell_type": "code",
   "execution_count": 88,
   "metadata": {},
   "outputs": [
    {
     "data": {
      "text/html": [
       "<div>\n",
       "<style scoped>\n",
       "    .dataframe tbody tr th:only-of-type {\n",
       "        vertical-align: middle;\n",
       "    }\n",
       "\n",
       "    .dataframe tbody tr th {\n",
       "        vertical-align: top;\n",
       "    }\n",
       "\n",
       "    .dataframe thead th {\n",
       "        text-align: right;\n",
       "    }\n",
       "</style>\n",
       "<table border=\"1\" class=\"dataframe\">\n",
       "  <thead>\n",
       "    <tr style=\"text-align: right;\">\n",
       "      <th></th>\n",
       "      <th>neighborhood</th>\n",
       "      <th>valid_neighborhood</th>\n",
       "    </tr>\n",
       "  </thead>\n",
       "  <tbody>\n",
       "    <tr>\n",
       "      <th>0</th>\n",
       "      <td>Adlershof</td>\n",
       "      <td>1.0</td>\n",
       "    </tr>\n",
       "    <tr>\n",
       "      <th>1</th>\n",
       "      <td>Adlershof</td>\n",
       "      <td>1.0</td>\n",
       "    </tr>\n",
       "    <tr>\n",
       "      <th>2</th>\n",
       "      <td>Adlershof</td>\n",
       "      <td>1.0</td>\n",
       "    </tr>\n",
       "    <tr>\n",
       "      <th>4</th>\n",
       "      <td>Adlershof</td>\n",
       "      <td>1.0</td>\n",
       "    </tr>\n",
       "    <tr>\n",
       "      <th>5</th>\n",
       "      <td>Adlershof</td>\n",
       "      <td>1.0</td>\n",
       "    </tr>\n",
       "    <tr>\n",
       "      <th>...</th>\n",
       "      <td>...</td>\n",
       "      <td>...</td>\n",
       "    </tr>\n",
       "    <tr>\n",
       "      <th>16582</th>\n",
       "      <td>Zehle</td>\n",
       "      <td>1.0</td>\n",
       "    </tr>\n",
       "    <tr>\n",
       "      <th>16583</th>\n",
       "      <td>Zehle</td>\n",
       "      <td>1.0</td>\n",
       "    </tr>\n",
       "    <tr>\n",
       "      <th>16584</th>\n",
       "      <td>Zehle</td>\n",
       "      <td>1.0</td>\n",
       "    </tr>\n",
       "    <tr>\n",
       "      <th>16585</th>\n",
       "      <td>Zehle</td>\n",
       "      <td>1.0</td>\n",
       "    </tr>\n",
       "    <tr>\n",
       "      <th>16586</th>\n",
       "      <td>Zehle</td>\n",
       "      <td>1.0</td>\n",
       "    </tr>\n",
       "  </tbody>\n",
       "</table>\n",
       "<p>13631 rows × 2 columns</p>\n",
       "</div>"
      ],
      "text/plain": [
       "      neighborhood  valid_neighborhood\n",
       "0        Adlershof                 1.0\n",
       "1        Adlershof                 1.0\n",
       "2        Adlershof                 1.0\n",
       "4        Adlershof                 1.0\n",
       "5        Adlershof                 1.0\n",
       "...            ...                 ...\n",
       "16582        Zehle                 1.0\n",
       "16583        Zehle                 1.0\n",
       "16584        Zehle                 1.0\n",
       "16585        Zehle                 1.0\n",
       "16586        Zehle                 1.0\n",
       "\n",
       "[13631 rows x 2 columns]"
      ]
     },
     "execution_count": 88,
     "metadata": {},
     "output_type": "execute_result"
    }
   ],
   "source": [
    "df1[['neighborhood', 'valid_neighborhood']].loc[df1['valid_neighborhood'] == 1]"
   ]
  },
  {
   "cell_type": "markdown",
   "metadata": {},
   "source": [
    "h. In the following type a code to **drop the rows** for which 'neighborhood' is 'Friedrich' or 'Wedy'.\n",
    "\n",
    "**Note:** review data cleaning1 notebook to find out how to drop rows with invalid values from dataframe."
   ]
  },
  {
   "cell_type": "code",
   "execution_count": 90,
   "metadata": {},
   "outputs": [],
   "source": [
    "df1.drop(df1.loc[df1['neighborhood'].isin(['Friedrich', 'Wedy'])].index, inplace=True)"
   ]
  },
  {
   "cell_type": "markdown",
   "metadata": {},
   "source": [
    "i. To make sure you've replaced/deleted the rows with invalid neighborhood, subset the df1 dataframe again to show 'neighborhood' column and 'valid_neighborhood' column for which valid_neighborhood's value is 0."
   ]
  },
  {
   "cell_type": "code",
   "execution_count": 92,
   "metadata": {},
   "outputs": [
    {
     "data": {
      "text/html": [
       "<div>\n",
       "<style scoped>\n",
       "    .dataframe tbody tr th:only-of-type {\n",
       "        vertical-align: middle;\n",
       "    }\n",
       "\n",
       "    .dataframe tbody tr th {\n",
       "        vertical-align: top;\n",
       "    }\n",
       "\n",
       "    .dataframe thead th {\n",
       "        text-align: right;\n",
       "    }\n",
       "</style>\n",
       "<table border=\"1\" class=\"dataframe\">\n",
       "  <thead>\n",
       "    <tr style=\"text-align: right;\">\n",
       "      <th></th>\n",
       "      <th>neighborhood</th>\n",
       "      <th>valid_neighborhood</th>\n",
       "    </tr>\n",
       "  </thead>\n",
       "  <tbody>\n",
       "    <tr>\n",
       "      <th>16578</th>\n",
       "      <td>Zehle</td>\n",
       "      <td>0.0</td>\n",
       "    </tr>\n",
       "  </tbody>\n",
       "</table>\n",
       "</div>"
      ],
      "text/plain": [
       "      neighborhood  valid_neighborhood\n",
       "16578        Zehle                 0.0"
      ]
     },
     "execution_count": 92,
     "metadata": {},
     "output_type": "execute_result"
    }
   ],
   "source": [
    "df1[['neighborhood', 'valid_neighborhood']].loc[df1['valid_neighborhood'] == 0]"
   ]
  },
  {
   "cell_type": "markdown",
   "metadata": {},
   "source": [
    "**Question 11:**\n",
    "\n",
    "a. convert 'review_date' column's data type to date/time"
   ]
  },
  {
   "cell_type": "code",
   "execution_count": 94,
   "metadata": {},
   "outputs": [],
   "source": [
    "df1['review_date'] = pd.to_datetime(df1['review_date'])"
   ]
  },
  {
   "cell_type": "markdown",
   "metadata": {},
   "source": [
    "b. Extract year from 'review_date' column and save it to 'review_year' column"
   ]
  },
  {
   "cell_type": "code",
   "execution_count": 96,
   "metadata": {},
   "outputs": [],
   "source": [
    "df1['review_year']=df1['review_date'].dt.year"
   ]
  },
  {
   "cell_type": "markdown",
   "metadata": {},
   "source": [
    "c. Create a frequency table for review_year column using value_counts() and display the first 5 rows of the output using head()"
   ]
  },
  {
   "cell_type": "code",
   "execution_count": 98,
   "metadata": {},
   "outputs": [
    {
     "data": {
      "text/plain": [
       "0    2016\n",
       "1    2016\n",
       "2    2015\n",
       "4    2018\n",
       "5    2018\n",
       "Name: review_year, dtype: int32"
      ]
     },
     "execution_count": 98,
     "metadata": {},
     "output_type": "execute_result"
    }
   ],
   "source": [
    "df1['review_year'].value_counts()\n",
    "df1['review_year'].head()"
   ]
  },
  {
   "cell_type": "markdown",
   "metadata": {},
   "source": [
    "d. Extract month **text** from 'review_date' column and save it to 'review_month' column"
   ]
  },
  {
   "cell_type": "code",
   "execution_count": 100,
   "metadata": {},
   "outputs": [],
   "source": [
    "df1['review_month'] = df1['review_date'].dt.month_name()"
   ]
  },
  {
   "cell_type": "markdown",
   "metadata": {},
   "source": [
    "e. Create a frequency table for review_month column using value_counts() and display the first 5 rows of the output using head()"
   ]
  },
  {
   "cell_type": "code",
   "execution_count": 102,
   "metadata": {},
   "outputs": [
    {
     "data": {
      "text/plain": [
       "0      January\n",
       "1      January\n",
       "2    September\n",
       "4         July\n",
       "5         July\n",
       "Name: review_month, dtype: object"
      ]
     },
     "execution_count": 102,
     "metadata": {},
     "output_type": "execute_result"
    }
   ],
   "source": [
    "df1['review_month'].value_counts()\n",
    "df1['review_month'].head()"
   ]
  },
  {
   "cell_type": "markdown",
   "metadata": {},
   "source": [
    "**Question 12:**\n",
    "\n",
    "In the following type a code to display the number of  proprties for each 'neighborhood' that were reviewed in 2016. Display the first 10 rows. (the output should show the neighborhood  and the number)"
   ]
  },
  {
   "cell_type": "code",
   "execution_count": 104,
   "metadata": {},
   "outputs": [
    {
     "data": {
      "text/plain": [
       "Series([], Name: neighborhood, dtype: object)"
      ]
     },
     "execution_count": 104,
     "metadata": {},
     "output_type": "execute_result"
    }
   ],
   "source": [
    "#df1[df1['review_year'] == 2016].groupby('neighborhood').head(10)\n",
    "#df1[df1['review_year'] == 2016].groupby('neighborhood').size().reset_index(name='count').head(10)\n",
    "#df1[df1['review_year'] == 2016].groupby(df1['year']).head()\n",
    "df1['neighborhood'].loc[df1['review_year']==2007].head(10)"
   ]
  },
  {
   "cell_type": "markdown",
   "metadata": {},
   "source": [
    "**Question 13:**\n",
    "\n",
    "In the following type a code to display the number of properties that were reviewed in 2015 and their 'neighborhood' was 'Adlershof' (the output should show year and neighborhood as labels and the number)"
   ]
  },
  {
   "cell_type": "code",
   "execution_count": 106,
   "metadata": {},
   "outputs": [
    {
     "data": {
      "text/plain": [
       "neighborhood  review_year\n",
       "Adlershof     2015           7\n",
       "Name: count, dtype: int64"
      ]
     },
     "execution_count": 106,
     "metadata": {},
     "output_type": "execute_result"
    }
   ],
   "source": [
    "df1[['neighborhood','review_year']].loc[(df1['neighborhood']=='Adlershof') & (df1['review_year']==2015)].value_counts()"
   ]
  },
  {
   "cell_type": "markdown",
   "metadata": {},
   "source": [
    "**Question 14:**\n",
    "\n",
    "In the following type a code that calculates the average 'price' of properties in each 'neighborhood' for which the 'bed_type' is 'Real Bed', the number of bedrooms is greater than or equal to 3, and the properties are available. Sort the output numbers in the descending order.\n",
    "\n",
    "Some tips To solve this problem:\n",
    "\n",
    "* First, use .loc method to filter df1 dataframe that have these conditions: 'bed_type' is 'Real Bed', the number of bedrooms is greater than or equal to 3, 'has_availability1' is 'True' and save it to new_df dataframe. (if you do not know how to use .loc method, please refer refer to **Pandas** notebook)\n",
    "\n",
    "* Second, calculate the average 'price' of properties in each 'neighborhood' in new_df datafarme. Then, sort the output numbers in the descending order."
   ]
  },
  {
   "cell_type": "code",
   "execution_count": 175,
   "metadata": {},
   "outputs": [
    {
     "data": {
      "text/plain": [
       "neighborhood\n",
       "Mitte                  158.108696\n",
       "Mahlsdorf              150.000000\n",
       "Rudow                  140.000000\n",
       "Blankenburg            130.000000\n",
       "Buckow                 110.000000\n",
       "Wannsee                 90.666667\n",
       "Johannisthal            90.000000\n",
       "Pankow                  84.444444\n",
       "Buch                    84.000000\n",
       "Zehle                   70.600000\n",
       "Falkenberg              70.000000\n",
       "Frohnau                 67.500000\n",
       "Tempelhof               66.900000\n",
       "Nikolassee              62.500000\n",
       "Rummelsburg             61.500000\n",
       "Wilmersdorf             60.714286\n",
       "Moabit                  60.388889\n",
       "Hermsdorf               60.000000\n",
       "Prenzlauer Berg         59.849462\n",
       "Marzahn                 58.333333\n",
       "Lichterfelde            58.125000\n",
       "Lankwitz                55.000000\n",
       "Charlottenburg-Nord     55.000000\n",
       "Tiergarten              54.300000\n",
       "Steglitz                52.500000\n",
       "Charlottenburg          50.904762\n",
       "Kladow                  50.000000\n",
       "Kreuzberg               49.054054\n",
       "Schmargendorf           49.000000\n",
       "Wedding                 47.954545\n",
       "Westend                 46.000000\n",
       "Lichtenrade             46.000000\n",
       "Staaken                 45.000000\n",
       "Friedrichshain          43.425532\n",
       "Tegel                   41.000000\n",
       "Spandau                 40.000000\n",
       "Alt-Treptow             39.875000\n",
       "Bohnsdorf               39.000000\n",
       "Britz                   39.000000\n",
       "Friedenau               38.000000\n",
       "Rahnsdorf               36.000000\n",
       "Rosenthal               36.000000\n",
       "Potsdamer Platz         35.250000\n",
       "Lichtenberg             33.500000\n",
       "Grunewald               30.333333\n",
       "Hakenfelde              29.000000\n",
       "Dahlem                  29.000000\n",
       "Friedrichshagen         28.000000\n",
       "Fennpfuhl               25.000000\n",
       "Karow                   25.000000\n",
       "Karlshorst              23.000000\n",
       "Kaulsdorf               21.000000\n",
       "Biesdorf                21.000000\n",
       "Friedrichsfelde         20.000000\n",
       "Reinickendorf           20.000000\n",
       "Mariendorf              19.500000\n",
       "Name: price, dtype: float64"
      ]
     },
     "execution_count": 175,
     "metadata": {},
     "output_type": "execute_result"
    }
   ],
   "source": [
    "new_df = df1.loc[(df1['bed_type'] == 'Real Bed') & (df1['bedrooms'] >= 3) & (df1['has_availability1'] == 'True')]\n",
    "new_df.groupby('neighborhood')['price'].mean().sort_values(ascending=False)"
   ]
  },
  {
   "cell_type": "code",
   "execution_count": 165,
   "metadata": {},
   "outputs": [
    {
     "data": {
      "text/html": [
       "<div>\n",
       "<style scoped>\n",
       "    .dataframe tbody tr th:only-of-type {\n",
       "        vertical-align: middle;\n",
       "    }\n",
       "\n",
       "    .dataframe tbody tr th {\n",
       "        vertical-align: top;\n",
       "    }\n",
       "\n",
       "    .dataframe thead th {\n",
       "        text-align: right;\n",
       "    }\n",
       "</style>\n",
       "<table border=\"1\" class=\"dataframe\">\n",
       "  <thead>\n",
       "    <tr style=\"text-align: right;\">\n",
       "      <th></th>\n",
       "      <th>property id</th>\n",
       "      <th>country</th>\n",
       "      <th>property_type</th>\n",
       "      <th>bedrooms</th>\n",
       "      <th>bed_type</th>\n",
       "      <th>price</th>\n",
       "      <th>number_of_reviews</th>\n",
       "      <th>review_date</th>\n",
       "      <th>neighborhood</th>\n",
       "      <th>city</th>\n",
       "      <th>has_availability1</th>\n",
       "      <th>valid_neighborhood</th>\n",
       "      <th>review_year</th>\n",
       "      <th>review_month</th>\n",
       "    </tr>\n",
       "  </thead>\n",
       "  <tbody>\n",
       "  </tbody>\n",
       "</table>\n",
       "</div>"
      ],
      "text/plain": [
       "Empty DataFrame\n",
       "Columns: [property id, country, property_type, bedrooms, bed_type, price, number_of_reviews, review_date, neighborhood, city, has_availability1, valid_neighborhood, review_year, review_month]\n",
       "Index: []"
      ]
     },
     "execution_count": 165,
     "metadata": {},
     "output_type": "execute_result"
    }
   ],
   "source": [
    "new_df.head()"
   ]
  },
  {
   "cell_type": "markdown",
   "metadata": {},
   "source": [
    "### Please make sure to **run all cells** before turning in your solution file"
   ]
  }
 ],
 "metadata": {
  "kernelspec": {
   "display_name": "Python 3 (ipykernel)",
   "language": "python",
   "name": "python3"
  },
  "language_info": {
   "codemirror_mode": {
    "name": "ipython",
    "version": 3
   },
   "file_extension": ".py",
   "mimetype": "text/x-python",
   "name": "python",
   "nbconvert_exporter": "python",
   "pygments_lexer": "ipython3",
   "version": "3.12.4"
  }
 },
 "nbformat": 4,
 "nbformat_minor": 4
}
